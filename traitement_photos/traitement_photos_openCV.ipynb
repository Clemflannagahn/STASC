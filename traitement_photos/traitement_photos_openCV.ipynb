{
 "cells": [
  {
   "cell_type": "code",
   "execution_count": 20,
   "metadata": {},
   "outputs": [],
   "source": [
    "import os\n",
    "import cv2\n",
    "import numpy as np\n",
    "import pandas as pd\n",
    "from statistics import mean"
   ]
  },
  {
   "attachments": {},
   "cell_type": "markdown",
   "metadata": {},
   "source": [
    "### On commence par spécifier les PATHs vers les images"
   ]
  },
  {
   "cell_type": "code",
   "execution_count": 21,
   "metadata": {},
   "outputs": [],
   "source": [
    "# listes des dossiers dans le dossier train\n",
    "FOLDER_TRAIN = 'C:/Users/maila/Documents/Centrale Nantes/EI2/INFOIA/STASC/Data_Challenge/reduced_images_ILB/reduced_images/train'\n",
    "list_folders_train = os.listdir(FOLDER_TRAIN)\n",
    "# liste des dossiers dans le dossier test\n",
    "FOLDER_TEST = 'C:/Users/maila/Documents/Centrale Nantes/EI2/INFOIA/STASC/Data_Challenge/reduced_images_ILB/reduced_images/test'\n",
    "list_folders_test = os.listdir(FOLDER_TEST)"
   ]
  },
  {
   "attachments": {},
   "cell_type": "markdown",
   "metadata": {},
   "source": [
    "#### On calcule la moyenne des pixels en passant en teintes de gris ainsi que le premier et le troisième quartiles "
   ]
  },
  {
   "cell_type": "code",
   "execution_count": 22,
   "metadata": {},
   "outputs": [
    {
     "name": "stdout",
     "output_type": "stream",
     "text": [
      "1000\n",
      "2000\n",
      "3000\n",
      "4000\n",
      "5000\n",
      "6000\n",
      "7000\n",
      "8000\n",
      "9000\n",
      "10000\n",
      "11000\n",
      "12000\n",
      "13000\n",
      "14000\n",
      "15000\n",
      "16000\n",
      "17000\n",
      "18000\n",
      "19000\n",
      "20000\n",
      "21000\n",
      "22000\n",
      "23000\n",
      "24000\n",
      "25000\n",
      "26000\n",
      "27000\n",
      "28000\n",
      "29000\n",
      "30000\n",
      "31000\n",
      "32000\n",
      "33000\n",
      "34000\n",
      "35000\n",
      "36000\n",
      "37000\n"
     ]
    }
   ],
   "source": [
    "futur_dataset_train = {\"id_annonce\" : [],\"gray_mean\" : [], \"quartile_inf\" : [], \"quartile_sup\" : []}\n",
    "\n",
    "compteur = 0\n",
    "for dossier in list_folders_train :\n",
    "    compteur += 1\n",
    "    # création d'un compteur pour voir l'avancement\n",
    "    if compteur % 1000 == 0 :\n",
    "        print(compteur)\n",
    "    # path absolue vers le folder\n",
    "    folder_path = FOLDER_TRAIN + \"/\" + dossier\n",
    "    list_images = os.listdir(folder_path)\n",
    "    for image in list_images :\n",
    "        quartile_inf_image = []\n",
    "        quartile_sup_image = []\n",
    "        moy_image = []\n",
    "\n",
    "        image_path = folder_path + \"/\" + image\n",
    "        img = cv2.imread(image_path)\n",
    "        # On passe l'image en gris\n",
    "        gray_img = cv2.cvtColor(img, cv2.COLOR_BGR2GRAY)\n",
    "        # moyenne des pixels de l'image\n",
    "        moy_image.append(gray_img.mean())\n",
    "        # On calcule les quartiles de l'image\n",
    "        quartiles = np.quantile(gray_img, [0.25, 0.75])\n",
    "        quartile_inf_image.append(quartiles[0])\n",
    "        quartile_sup_image.append(quartiles[1])\n",
    "        # On ajoute l'image au futur dataset avec son id d'annonce\n",
    "    futur_dataset_train[\"id_annonce\"].append(dossier[4:])\n",
    "    futur_dataset_train[\"gray_mean\"].append(mean(moy_image))\n",
    "    futur_dataset_train[\"quartile_inf\"].append(mean(quartile_inf_image))\n",
    "    futur_dataset_train[\"quartile_sup\"].append(mean(quartile_sup_image))\n"
   ]
  },
  {
   "cell_type": "code",
   "execution_count": 23,
   "metadata": {},
   "outputs": [
    {
     "data": {
      "text/html": [
       "<div>\n",
       "<style scoped>\n",
       "    .dataframe tbody tr th:only-of-type {\n",
       "        vertical-align: middle;\n",
       "    }\n",
       "\n",
       "    .dataframe tbody tr th {\n",
       "        vertical-align: top;\n",
       "    }\n",
       "\n",
       "    .dataframe thead th {\n",
       "        text-align: right;\n",
       "    }\n",
       "</style>\n",
       "<table border=\"1\" class=\"dataframe\">\n",
       "  <thead>\n",
       "    <tr style=\"text-align: right;\">\n",
       "      <th></th>\n",
       "      <th>id_annonce</th>\n",
       "      <th>gray_mean</th>\n",
       "      <th>quartile_inf</th>\n",
       "      <th>quartile_sup</th>\n",
       "    </tr>\n",
       "  </thead>\n",
       "  <tbody>\n",
       "    <tr>\n",
       "      <th>0</th>\n",
       "      <td>10767060</td>\n",
       "      <td>88.613548</td>\n",
       "      <td>36.0</td>\n",
       "      <td>152.0</td>\n",
       "    </tr>\n",
       "    <tr>\n",
       "      <th>1</th>\n",
       "      <td>10888487</td>\n",
       "      <td>157.797188</td>\n",
       "      <td>132.0</td>\n",
       "      <td>189.0</td>\n",
       "    </tr>\n",
       "    <tr>\n",
       "      <th>2</th>\n",
       "      <td>10914429</td>\n",
       "      <td>116.661242</td>\n",
       "      <td>84.0</td>\n",
       "      <td>153.0</td>\n",
       "    </tr>\n",
       "    <tr>\n",
       "      <th>3</th>\n",
       "      <td>11308684</td>\n",
       "      <td>139.215577</td>\n",
       "      <td>107.0</td>\n",
       "      <td>184.0</td>\n",
       "    </tr>\n",
       "    <tr>\n",
       "      <th>4</th>\n",
       "      <td>11549723</td>\n",
       "      <td>146.446856</td>\n",
       "      <td>111.0</td>\n",
       "      <td>186.0</td>\n",
       "    </tr>\n",
       "    <tr>\n",
       "      <th>...</th>\n",
       "      <td>...</td>\n",
       "      <td>...</td>\n",
       "      <td>...</td>\n",
       "      <td>...</td>\n",
       "    </tr>\n",
       "    <tr>\n",
       "      <th>37363</th>\n",
       "      <td>36098287</td>\n",
       "      <td>135.814349</td>\n",
       "      <td>88.0</td>\n",
       "      <td>189.0</td>\n",
       "    </tr>\n",
       "    <tr>\n",
       "      <th>37364</th>\n",
       "      <td>36098743</td>\n",
       "      <td>137.665222</td>\n",
       "      <td>103.0</td>\n",
       "      <td>178.0</td>\n",
       "    </tr>\n",
       "    <tr>\n",
       "      <th>37365</th>\n",
       "      <td>36098807</td>\n",
       "      <td>93.323898</td>\n",
       "      <td>56.0</td>\n",
       "      <td>120.0</td>\n",
       "    </tr>\n",
       "    <tr>\n",
       "      <th>37366</th>\n",
       "      <td>6774630</td>\n",
       "      <td>129.482033</td>\n",
       "      <td>91.0</td>\n",
       "      <td>169.0</td>\n",
       "    </tr>\n",
       "    <tr>\n",
       "      <th>37367</th>\n",
       "      <td>9229368</td>\n",
       "      <td>107.667965</td>\n",
       "      <td>41.0</td>\n",
       "      <td>168.0</td>\n",
       "    </tr>\n",
       "  </tbody>\n",
       "</table>\n",
       "<p>37368 rows × 4 columns</p>\n",
       "</div>"
      ],
      "text/plain": [
       "      id_annonce   gray_mean  quartile_inf  quartile_sup\n",
       "0       10767060   88.613548          36.0         152.0\n",
       "1       10888487  157.797188         132.0         189.0\n",
       "2       10914429  116.661242          84.0         153.0\n",
       "3       11308684  139.215577         107.0         184.0\n",
       "4       11549723  146.446856         111.0         186.0\n",
       "...          ...         ...           ...           ...\n",
       "37363   36098287  135.814349          88.0         189.0\n",
       "37364   36098743  137.665222         103.0         178.0\n",
       "37365   36098807   93.323898          56.0         120.0\n",
       "37366    6774630  129.482033          91.0         169.0\n",
       "37367    9229368  107.667965          41.0         168.0\n",
       "\n",
       "[37368 rows x 4 columns]"
      ]
     },
     "execution_count": 23,
     "metadata": {},
     "output_type": "execute_result"
    }
   ],
   "source": [
    "pd.DataFrame(futur_dataset_train)"
   ]
  },
  {
   "cell_type": "code",
   "execution_count": 24,
   "metadata": {},
   "outputs": [],
   "source": [
    "X_train = pd.DataFrame(futur_dataset_train)\n",
    "X_train.to_csv('traitement_Open_CV_train.csv', index=False)"
   ]
  },
  {
   "cell_type": "code",
   "execution_count": 28,
   "metadata": {},
   "outputs": [
    {
     "name": "stdout",
     "output_type": "stream",
     "text": [
      "1000\n",
      "2000\n",
      "3000\n",
      "4000\n",
      "5000\n",
      "6000\n",
      "7000\n",
      "8000\n",
      "9000\n"
     ]
    }
   ],
   "source": [
    "futur_dataset_test = {\"id_annonce\" : [],\"gray_mean\" : [], \"quartile_inf\" : [], \"quartile_sup\" : []}\n",
    "\n",
    "compteur = 0\n",
    "for dossier in list_folders_test :\n",
    "    compteur += 1\n",
    "    # création d'un compteur pour voir l'avancement\n",
    "    if compteur % 1000 == 0 :\n",
    "        print(compteur)\n",
    "    # path absolue vers le folder\n",
    "    folder_path = FOLDER_TEST + \"/\" + dossier\n",
    "    list_images = os.listdir(folder_path)\n",
    "    for image in list_images :\n",
    "        quartile_inf_image = []\n",
    "        quartile_sup_image = []\n",
    "        moy_image = []\n",
    "\n",
    "        image_path = folder_path + \"/\" + image\n",
    "        img = cv2.imread(image_path)\n",
    "        # On passe l'image en gris\n",
    "        gray_img = cv2.cvtColor(img, cv2.COLOR_BGR2GRAY)\n",
    "        # moyenne des pixels de l'image\n",
    "        moy_image.append(gray_img.mean())\n",
    "        # On calcule les quartiles de l'image\n",
    "        quartiles = np.quantile(gray_img, [0.25, 0.75])\n",
    "        quartile_inf_image.append(quartiles[0])\n",
    "        quartile_sup_image.append(quartiles[1])\n",
    "        # On ajoute l'image au futur dataset avec son id d'annonce\n",
    "    futur_dataset_test[\"id_annonce\"].append(dossier[4:])\n",
    "    futur_dataset_test[\"gray_mean\"].append(mean(moy_image))\n",
    "    futur_dataset_test[\"quartile_inf\"].append(mean(quartile_inf_image))\n",
    "    futur_dataset_test[\"quartile_sup\"].append(mean(quartile_sup_image))"
   ]
  },
  {
   "cell_type": "code",
   "execution_count": 31,
   "metadata": {},
   "outputs": [
    {
     "data": {
      "text/plain": [
       "(9339, 4)"
      ]
     },
     "execution_count": 31,
     "metadata": {},
     "output_type": "execute_result"
    }
   ],
   "source": [
    "pd.DataFrame(futur_dataset_test)"
   ]
  },
  {
   "cell_type": "code",
   "execution_count": 32,
   "metadata": {},
   "outputs": [],
   "source": [
    "X_test = pd.DataFrame(futur_dataset_test)\n",
    "X_test.to_csv('traitement_Open_CV_test.csv', index=False)"
   ]
  },
  {
   "cell_type": "code",
   "execution_count": 35,
   "metadata": {},
   "outputs": [],
   "source": [
    "donnees_test = pd.read_csv('traitement_Open_CV_test.csv')\n",
    "donnees_train = pd.read_csv('traitement_Open_CV_train.csv')\n",
    "traitement = pd.concat([donnees_train,donnees_test],ignore_index=True)\n",
    "\n",
    "X = pd.read_csv('../Prix_metre/X_avec_prix_et_images_et_inflation.csv')\n",
    "\n",
    "# Merge X et image sur l'id_annonce\n",
    "X = pd.merge(X, traitement, on='id_annonce', how='left')\n",
    "\n",
    "X.to_csv('X_avec_prix_et_images_complet_et_inflation.csv', index=False)"
   ]
  },
  {
   "cell_type": "code",
   "execution_count": null,
   "metadata": {},
   "outputs": [],
   "source": [
    "X = pd.read_csv('X_avec_prix_et_images_complet_et_inflation.csv')"
   ]
  }
 ],
 "metadata": {
  "kernelspec": {
   "display_name": "Projet",
   "language": "python",
   "name": "python3"
  },
  "language_info": {
   "codemirror_mode": {
    "name": "ipython",
    "version": 3
   },
   "file_extension": ".py",
   "mimetype": "text/x-python",
   "name": "python",
   "nbconvert_exporter": "python",
   "pygments_lexer": "ipython3",
   "version": "3.10.6 | packaged by conda-forge | (main, Aug 22 2022, 20:29:51) [MSC v.1929 64 bit (AMD64)]"
  },
  "orig_nbformat": 4,
  "vscode": {
   "interpreter": {
    "hash": "63e22c97e4ed8d431fc724019dffa39fd8054b2d28cf3e66fed132b173246b98"
   }
  }
 },
 "nbformat": 4,
 "nbformat_minor": 2
}
