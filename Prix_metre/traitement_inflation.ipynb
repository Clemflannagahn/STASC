{
 "cells": [
  {
   "attachments": {},
   "cell_type": "markdown",
   "metadata": {},
   "source": [
    "## On calcule les prix approximatifs de 2021 avec l'inflation à l'aide d'un fichier de l'INSEE retravaillé au préalable"
   ]
  },
  {
   "cell_type": "code",
   "execution_count": 63,
   "metadata": {},
   "outputs": [],
   "source": [
    "import pandas as pd"
   ]
  },
  {
   "cell_type": "code",
   "execution_count": 64,
   "metadata": {},
   "outputs": [],
   "source": [
    "X = pd.read_csv(\"../traitement_photos/X_avec_prix_et_images.csv\")\n",
    "X[\"nearly_price\"]=X[\"PrixMoyen_M2\"]*X[\"size\"]"
   ]
  },
  {
   "cell_type": "code",
   "execution_count": 65,
   "metadata": {},
   "outputs": [
    {
     "name": "stderr",
     "output_type": "stream",
     "text": [
      "C:\\Users\\maila\\AppData\\Local\\Temp\\ipykernel_21592\\2441469366.py:2: SettingWithCopyWarning: \n",
      "A value is trying to be set on a copy of a slice from a DataFrame\n",
      "\n",
      "See the caveats in the documentation: https://pandas.pydata.org/pandas-docs/stable/user_guide/indexing.html#returning-a-view-versus-a-copy\n",
      "  X[\"departement\"][X[\"departement\"] < 10000]=X[\"departement\"].astype(str).str[:1].astype(int)\n",
      "C:\\Users\\maila\\AppData\\Local\\Temp\\ipykernel_21592\\2441469366.py:3: SettingWithCopyWarning: \n",
      "A value is trying to be set on a copy of a slice from a DataFrame\n",
      "\n",
      "See the caveats in the documentation: https://pandas.pydata.org/pandas-docs/stable/user_guide/indexing.html#returning-a-view-versus-a-copy\n",
      "  X[\"departement\"][X[\"departement\"] >= 10000]=X[\"departement\"].astype(str).str[:2].astype(int)\n"
     ]
    }
   ],
   "source": [
    "X[\"departement\"]=X[\"postal_code\"]\n",
    "X[\"departement\"][X[\"departement\"] < 10000]=X[\"departement\"].astype(str).str[:1].astype(int)\n",
    "X[\"departement\"][X[\"departement\"] >= 10000]=X[\"departement\"].astype(str).str[:2].astype(int)"
   ]
  },
  {
   "attachments": {},
   "cell_type": "markdown",
   "metadata": {},
   "source": [
    "> Pour les maisons et les appartements :"
   ]
  },
  {
   "cell_type": "code",
   "execution_count": 66,
   "metadata": {},
   "outputs": [],
   "source": [
    "X[\"nearly_price_inflation\"]=None"
   ]
  },
  {
   "cell_type": "code",
   "execution_count": 67,
   "metadata": {},
   "outputs": [
    {
     "name": "stderr",
     "output_type": "stream",
     "text": [
      "C:\\Users\\maila\\AppData\\Local\\Temp\\ipykernel_21592\\4291456083.py:9: SettingWithCopyWarning: \n",
      "A value is trying to be set on a copy of a slice from a DataFrame\n",
      "\n",
      "See the caveats in the documentation: https://pandas.pydata.org/pandas-docs/stable/user_guide/indexing.html#returning-a-view-versus-a-copy\n",
      "  X[\"nearly_price_inflation\"][(X[\"property_type\"] == \"appartement\") & (X[\"departement\"] == departements[i])] = X[\"nearly_price\"][(X[\"property_type\"] == \"appartement\") & (X[\"departement\"] == departements[i])] * taux_inflation_apparts[i]\n",
      "C:\\Users\\maila\\AppData\\Local\\Temp\\ipykernel_21592\\4291456083.py:10: SettingWithCopyWarning: \n",
      "A value is trying to be set on a copy of a slice from a DataFrame\n",
      "\n",
      "See the caveats in the documentation: https://pandas.pydata.org/pandas-docs/stable/user_guide/indexing.html#returning-a-view-versus-a-copy\n",
      "  X[\"nearly_price_inflation\"][(X[\"property_type\"] == \"maison\") & (X[\"departement\"] == departements[i])] = X[\"nearly_price\"][(X[\"property_type\"] == \"maison\") & (X[\"departement\"] == departements[i])] * taux_inflation_maison[i]\n",
      "C:\\Users\\maila\\AppData\\Local\\Temp\\ipykernel_21592\\4291456083.py:19: SettingWithCopyWarning: \n",
      "A value is trying to be set on a copy of a slice from a DataFrame\n",
      "\n",
      "See the caveats in the documentation: https://pandas.pydata.org/pandas-docs/stable/user_guide/indexing.html#returning-a-view-versus-a-copy\n",
      "  X[\"nearly_price_inflation\"][(X[\"property_type\"] == \"appartement\") & (X[\"departement\"] == dep)] = X[\"nearly_price\"][(X[\"property_type\"] == \"appartement\") & (X[\"departement\"] == dep)] * province_apparts\n",
      "C:\\Users\\maila\\AppData\\Local\\Temp\\ipykernel_21592\\4291456083.py:20: SettingWithCopyWarning: \n",
      "A value is trying to be set on a copy of a slice from a DataFrame\n",
      "\n",
      "See the caveats in the documentation: https://pandas.pydata.org/pandas-docs/stable/user_guide/indexing.html#returning-a-view-versus-a-copy\n",
      "  X[\"nearly_price_inflation\"][(X[\"property_type\"] == \"maison\") & (X[\"departement\"] == dep)] = X[\"nearly_price\"][(X[\"property_type\"] == \"maison\") & (X[\"departement\"] == dep)] * province_maisons\n"
     ]
    }
   ],
   "source": [
    "\n",
    "departements_dataset = X[\"departement\"].unique().tolist()\n",
    "# departements présents explicitement dans la bdd de l'INSEE\n",
    "departements = [75,77,78,91,92,93,94,95,4,5,6,13,83,84,1,3,7,15,26,38,42,43,63,69,73,74,2,59,60,62,80]\n",
    "taux_inflation_apparts = [1.034802784,1.067698259,1.068328717,1.070949185,1.08037225,1.094952951,1.089005236,1.074144487,1.066918002,1.066918002,1.066918002,1.066918002,1.066918002,1.066918002,1.114111498,1.114111498,1.114111498,1.114111498,1.114111498,1.114111498,1.114111498,1.114111498,1.114111498,1.114111498,1.114111498,1.114111498,1.110377358,1.110377358,1.110377358,1.110377358,1.110377358]\n",
    "taux_inflation_maison = [1.034802784,1.092380952,1.075418994,1.080449018,1.097797357,1.094977169,1.099188458,1.086997194,1.083409716,1.083409716,1.083409716,1.083409716,1.083409716,1.083409716,1.095829636,1.095829636,1.095829636,1.095829636,1.095829636,1.095829636,1.095829636,1.095829636,1.095829636,1.095829636,1.095829636,1.095829636,1.088180113,1.088180113,1.088180113,1.088180113,1.088180113]\n",
    "\n",
    "# On remplit les valeurs pour les maisons et les apparts dont on a les numéros\n",
    "for i in range(len(departements)):\n",
    "    X[\"nearly_price_inflation\"][(X[\"property_type\"] == \"appartement\") & (X[\"departement\"] == departements[i])] = X[\"nearly_price\"][(X[\"property_type\"] == \"appartement\") & (X[\"departement\"] == departements[i])] * taux_inflation_apparts[i]\n",
    "    X[\"nearly_price_inflation\"][(X[\"property_type\"] == \"maison\") & (X[\"departement\"] == departements[i])] = X[\"nearly_price\"][(X[\"property_type\"] == \"maison\") & (X[\"departement\"] == departements[i])] * taux_inflation_maison[i]\n",
    "\n",
    "province_apparts = 1.106019766\n",
    "province_maisons = 1.101083032\n",
    "\n",
    "departements_not_in_INSEE = [dep for dep in departements_dataset if dep not in departements]\n",
    "\n",
    "for dep in departements_not_in_INSEE:\n",
    "# on remplit les valeurs pour les maisons et les apparts dont on a pas les numéros (donc \"Province\")\n",
    "    X[\"nearly_price_inflation\"][(X[\"property_type\"] == \"appartement\") & (X[\"departement\"] == dep)] = X[\"nearly_price\"][(X[\"property_type\"] == \"appartement\") & (X[\"departement\"] == dep)] * province_apparts\n",
    "    X[\"nearly_price_inflation\"][(X[\"property_type\"] == \"maison\") & (X[\"departement\"] == dep)] = X[\"nearly_price\"][(X[\"property_type\"] == \"maison\") & (X[\"departement\"] == dep)] * province_maisons\n",
    "\n",
    "# X[\"nearly_price_inflation\"][X[\"property_type\"] == \"appartement\" and \"departement\" == 75] = X[\"nearly_price\"][X[\"property_type\"] == \"appartement\"] * 125.3/115.6\n",
    "# X[\"nearly_price_inflation\"][X[\"property_type\"] == \"maison\"] = X[\"nearly_price\"][X[\"property_type\"] == \"maison\"] * 121.3/110.4"
   ]
  },
  {
   "attachments": {},
   "cell_type": "markdown",
   "metadata": {},
   "source": [
    "> Pour le reste des types, on remplit par la valeur moyenne du département :"
   ]
  },
  {
   "cell_type": "code",
   "execution_count": 68,
   "metadata": {},
   "outputs": [],
   "source": [
    "X[\"nearly_price_inflation\"] = X.groupby(\"departement\")[\"nearly_price_inflation\"].transform(lambda x: x.fillna(x.mean()))"
   ]
  },
  {
   "cell_type": "code",
   "execution_count": 69,
   "metadata": {},
   "outputs": [
    {
     "data": {
      "text/html": [
       "<div>\n",
       "<style scoped>\n",
       "    .dataframe tbody tr th:only-of-type {\n",
       "        vertical-align: middle;\n",
       "    }\n",
       "\n",
       "    .dataframe tbody tr th {\n",
       "        vertical-align: top;\n",
       "    }\n",
       "\n",
       "    .dataframe thead th {\n",
       "        text-align: right;\n",
       "    }\n",
       "</style>\n",
       "<table border=\"1\" class=\"dataframe\">\n",
       "  <thead>\n",
       "    <tr style=\"text-align: right;\">\n",
       "      <th></th>\n",
       "      <th>nearly_price_inflation</th>\n",
       "      <th>nearly_price</th>\n",
       "    </tr>\n",
       "  </thead>\n",
       "  <tbody>\n",
       "    <tr>\n",
       "      <th>0</th>\n",
       "      <td>3.478419e+05</td>\n",
       "      <td>3.260250e+05</td>\n",
       "    </tr>\n",
       "    <tr>\n",
       "      <th>1</th>\n",
       "      <td>2.453608e+05</td>\n",
       "      <td>2.202300e+05</td>\n",
       "    </tr>\n",
       "    <tr>\n",
       "      <th>2</th>\n",
       "      <td>7.824847e+04</td>\n",
       "      <td>7.106500e+04</td>\n",
       "    </tr>\n",
       "    <tr>\n",
       "      <th>3</th>\n",
       "      <td>3.322518e+05</td>\n",
       "      <td>3.017500e+05</td>\n",
       "    </tr>\n",
       "    <tr>\n",
       "      <th>4</th>\n",
       "      <td>4.251093e+05</td>\n",
       "      <td>3.815680e+05</td>\n",
       "    </tr>\n",
       "    <tr>\n",
       "      <th>...</th>\n",
       "      <td>...</td>\n",
       "      <td>...</td>\n",
       "    </tr>\n",
       "    <tr>\n",
       "      <th>46702</th>\n",
       "      <td>3.884912e+06</td>\n",
       "      <td>4.965120e+05</td>\n",
       "    </tr>\n",
       "    <tr>\n",
       "      <th>46703</th>\n",
       "      <td>2.589138e+05</td>\n",
       "      <td>2.426745e+05</td>\n",
       "    </tr>\n",
       "    <tr>\n",
       "      <th>46704</th>\n",
       "      <td>2.602907e+05</td>\n",
       "      <td>2.353400e+05</td>\n",
       "    </tr>\n",
       "    <tr>\n",
       "      <th>46705</th>\n",
       "      <td>3.077307e+05</td>\n",
       "      <td>2.794800e+05</td>\n",
       "    </tr>\n",
       "    <tr>\n",
       "      <th>46706</th>\n",
       "      <td>2.206098e+07</td>\n",
       "      <td>2.003571e+07</td>\n",
       "    </tr>\n",
       "  </tbody>\n",
       "</table>\n",
       "<p>46707 rows × 2 columns</p>\n",
       "</div>"
      ],
      "text/plain": [
       "       nearly_price_inflation  nearly_price\n",
       "0                3.478419e+05  3.260250e+05\n",
       "1                2.453608e+05  2.202300e+05\n",
       "2                7.824847e+04  7.106500e+04\n",
       "3                3.322518e+05  3.017500e+05\n",
       "4                4.251093e+05  3.815680e+05\n",
       "...                       ...           ...\n",
       "46702            3.884912e+06  4.965120e+05\n",
       "46703            2.589138e+05  2.426745e+05\n",
       "46704            2.602907e+05  2.353400e+05\n",
       "46705            3.077307e+05  2.794800e+05\n",
       "46706            2.206098e+07  2.003571e+07\n",
       "\n",
       "[46707 rows x 2 columns]"
      ]
     },
     "execution_count": 69,
     "metadata": {},
     "output_type": "execute_result"
    }
   ],
   "source": [
    "X[[\"nearly_price_inflation\", \"nearly_price\"]]"
   ]
  },
  {
   "cell_type": "code",
   "execution_count": 70,
   "metadata": {},
   "outputs": [],
   "source": [
    "X = X.drop(columns=[\"departement\"])\n",
    "X.to_csv(\"../Prix_metre/X_avec_prix_et_images_et_inflation.csv\", index=False)"
   ]
  }
 ],
 "metadata": {
  "kernelspec": {
   "display_name": "Projet",
   "language": "python",
   "name": "python3"
  },
  "language_info": {
   "codemirror_mode": {
    "name": "ipython",
    "version": 3
   },
   "file_extension": ".py",
   "mimetype": "text/x-python",
   "name": "python",
   "nbconvert_exporter": "python",
   "pygments_lexer": "ipython3",
   "version": "3.10.6"
  },
  "orig_nbformat": 4,
  "vscode": {
   "interpreter": {
    "hash": "63e22c97e4ed8d431fc724019dffa39fd8054b2d28cf3e66fed132b173246b98"
   }
  }
 },
 "nbformat": 4,
 "nbformat_minor": 2
}
